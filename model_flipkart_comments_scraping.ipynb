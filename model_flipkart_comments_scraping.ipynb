{
 "cells": [
  {
   "cell_type": "code",
   "execution_count": 159,
   "metadata": {},
   "outputs": [],
   "source": [
    "import requests\n",
    "from bs4 import BeautifulSoup as bs\n",
    "from urllib.request import urlopen\n",
    "import logging"
   ]
  },
  {
   "cell_type": "code",
   "execution_count": null,
   "metadata": {},
   "outputs": [],
   "source": [
    "flipkart_url = \"https://www.flipkart.com/search?q=\" + \"iphone12promax\""
   ]
  },
  {
   "cell_type": "code",
   "execution_count": 167,
   "metadata": {},
   "outputs": [],
   "source": [
    "url_client = urlopen(flipkart_url) # url client for the url\n",
    "flikart_page_source = url_client.read() # Trying to read the url page\n",
    "flipkart_html = bs(flikart_page_source,\"html.parser\") # Beautify the data"
   ]
  },
  {
   "cell_type": "code",
   "execution_count": 172,
   "metadata": {},
   "outputs": [],
   "source": [
    "bigbox = flipkart_html.find_all(\"div\",{\"class\":\"_1AtVbE col-12-12\"})"
   ]
  },
  {
   "cell_type": "code",
   "execution_count": 180,
   "metadata": {},
   "outputs": [],
   "source": [
    "product_link = \"https://www.flipkart.com\"+bigbox[2].div.div.div.a[\"href\"] # Link of a single product\n",
    "product_request = requests.get(product_link)\n",
    "product_html = bs(product_request.text,\"html.parser\") # Link of product specific page"
   ]
  },
  {
   "cell_type": "code",
   "execution_count": 192,
   "metadata": {},
   "outputs": [],
   "source": [
    "comment_box = product_html.find_all(\"div\",{\"class\":\"_16PBlm\"})"
   ]
  },
  {
   "cell_type": "code",
   "execution_count": null,
   "metadata": {},
   "outputs": [],
   "source": [
    "comment_box[0].div.div.find_all(\"p\",{\"class\":\"_2sc7ZR _2V5EHH\"})[0].text"
   ]
  },
  {
   "cell_type": "code",
   "execution_count": null,
   "metadata": {},
   "outputs": [],
   "source": [
    "for i in comment_box:\n",
    "    print(i.div.div.find_all(\"p\",{\"class\":\"_2sc7ZR _2V5EHH\"})[0].text) # Get name of the person"
   ]
  },
  {
   "cell_type": "code",
   "execution_count": 224,
   "metadata": {},
   "outputs": [
    {
     "name": "stdout",
     "output_type": "stream",
     "text": [
      "4\n",
      "5\n",
      "5\n",
      "5\n",
      "5\n",
      "5\n",
      "5\n",
      "5\n",
      "5\n",
      "4\n"
     ]
    },
    {
     "ename": "AttributeError",
     "evalue": "'NoneType' object has no attribute 'div'",
     "output_type": "error",
     "traceback": [
      "\u001b[0;31m---------------------------------------------------------------------------\u001b[0m",
      "\u001b[0;31mAttributeError\u001b[0m                            Traceback (most recent call last)",
      "Cell \u001b[0;32mIn[224], line 2\u001b[0m\n\u001b[1;32m      1\u001b[0m \u001b[39mfor\u001b[39;00m i \u001b[39min\u001b[39;00m comment_box:\n\u001b[0;32m----> 2\u001b[0m     \u001b[39mprint\u001b[39m(i\u001b[39m.\u001b[39;49mdiv\u001b[39m.\u001b[39;49mdiv\u001b[39m.\u001b[39mdiv\u001b[39m.\u001b[39mdiv\u001b[39m.\u001b[39mtext)\n",
      "\u001b[0;31mAttributeError\u001b[0m: 'NoneType' object has no attribute 'div'"
     ]
    }
   ],
   "source": [
    "for i in comment_box:\n",
    "    print(i.div.div.div.div.text)"
   ]
  },
  {
   "cell_type": "code",
   "execution_count": 226,
   "metadata": {},
   "outputs": [
    {
     "name": "stdout",
     "output_type": "stream",
     "text": [
      "Nice product\n",
      "Worth every penny\n",
      "Perfect product!\n",
      "Fabulous!\n",
      "Highly recommended\n",
      "Brilliant\n",
      "Awesome\n",
      "Terrific purchase\n",
      "Terrific purchase\n",
      "Wonderful\n"
     ]
    },
    {
     "ename": "AttributeError",
     "evalue": "'NoneType' object has no attribute 'div'",
     "output_type": "error",
     "traceback": [
      "\u001b[0;31m---------------------------------------------------------------------------\u001b[0m",
      "\u001b[0;31mAttributeError\u001b[0m                            Traceback (most recent call last)",
      "Cell \u001b[0;32mIn[226], line 2\u001b[0m\n\u001b[1;32m      1\u001b[0m \u001b[39mfor\u001b[39;00m i \u001b[39min\u001b[39;00m comment_box:\n\u001b[0;32m----> 2\u001b[0m     \u001b[39mprint\u001b[39m(i\u001b[39m.\u001b[39;49mdiv\u001b[39m.\u001b[39;49mdiv\u001b[39m.\u001b[39mdiv\u001b[39m.\u001b[39mp\u001b[39m.\u001b[39mtext)\n",
      "\u001b[0;31mAttributeError\u001b[0m: 'NoneType' object has no attribute 'div'"
     ]
    }
   ],
   "source": [
    "for i in comment_box: # Get the header comment\n",
    "    print(i.div.div.div.p.text)"
   ]
  },
  {
   "cell_type": "code",
   "execution_count": 234,
   "metadata": {},
   "outputs": [
    {
     "name": "stdout",
     "output_type": "stream",
     "text": [
      "First iPhone, Battery drain faster, camera quality is awesome.\n",
      "Using it since last week.The display, photo and performance are best. Touch sensitivity is best. Photos are so natural, night time photos are too good. Photo quality after zooming is also good. Videos are also good. Better to buy Pro Max for longer battery backup. After heavy use, watching movies, battery consumption is 70% per day in average (no idea about backup for game users). Regarding weight, I am used to it. Dint find much difference from Samsung M31S and Flagship models. You can hold ...\n",
      "Lovely phone ❤️❤️ i love this 🥰🥰\n",
      "love this phone\n",
      "I love iPhone\n",
      "If you have that much amount to spend ! Just go for it\n",
      "The product is just Awesome  love it 6gbRAM 256gb its enough worth of money.Love the product,good build in camera.Magnificient phn,no other phones can replace it.\n",
      "Awesome product thanks 2 filpcart for lovely product delivery on time\n",
      "Highly appreciable after sell service from apple team. I faced issue due to which I rated it only 1 star but now I am changing to 5 star as I got my thing resolved as there was some settings changes.Battery backup is awesome. As I work in profile where phone plays important role. I use my phone for whole day and my battery drains approx 40-45%Camera quality is mind blowing. Specially for outdoor.\n",
      "I am moving from the last 12 years of pure or near-pure android experience to iPhone.  First all Google nexus(3,4 &5) phones and then One plus(2, 5t, 6t). I still believe one plus made the best phones until now. (8t and 9 pro are utter disappointment).I believe android allows you to do lot more tasks much simplified than on iOS, but for me, that was not the objective. I wanted to stay away from the phone as much as I can. And I think iPhone is letting me do that. So I am happy with it. Anot...\n"
     ]
    },
    {
     "ename": "AttributeError",
     "evalue": "'NoneType' object has no attribute 'div'",
     "output_type": "error",
     "traceback": [
      "\u001b[0;31m---------------------------------------------------------------------------\u001b[0m",
      "\u001b[0;31mAttributeError\u001b[0m                            Traceback (most recent call last)",
      "Cell \u001b[0;32mIn[234], line 2\u001b[0m\n\u001b[1;32m      1\u001b[0m \u001b[39mfor\u001b[39;00m i \u001b[39min\u001b[39;00m comment_box: \u001b[39m# Get the actual comment\u001b[39;00m\n\u001b[0;32m----> 2\u001b[0m     \u001b[39mprint\u001b[39m(i\u001b[39m.\u001b[39;49mdiv\u001b[39m.\u001b[39;49mdiv\u001b[39m.\u001b[39mfind_all(\u001b[39m\"\u001b[39m\u001b[39mdiv\u001b[39m\u001b[39m\"\u001b[39m,{\u001b[39m\"\u001b[39m\u001b[39mclass\u001b[39m\u001b[39m\"\u001b[39m:\u001b[39m\"\u001b[39m\u001b[39m\"\u001b[39m})[\u001b[39m0\u001b[39m]\u001b[39m.\u001b[39mdiv\u001b[39m.\u001b[39mtext)\n",
      "\u001b[0;31mAttributeError\u001b[0m: 'NoneType' object has no attribute 'div'"
     ]
    }
   ],
   "source": [
    "for i in comment_box: # Get the actual comment\n",
    "    print(i.div.div.find_all(\"div\",{\"class\":\"\"})[0].div.text)"
   ]
  },
  {
   "cell_type": "code",
   "execution_count": 216,
   "metadata": {},
   "outputs": [
    {
     "name": "stdout",
     "output_type": "stream",
     "text": [
      "https://www.flipkart.com/apple-iphone-12-pro-max-silver-512-gb/p/itm5d3d37892544f?pid=MOBFWBYZW38NGPNM&lid=LSTMOBFWBYZW38NGPNMWD1NPD&marketplace=FLIPKART&q=iphone12promax&store=tyy%2F4io&srno=s_1_1&otracker=search&fm=organic&iid=dce4a995-d8e3-4ed4-acc1-5aa1eb04ee65.MOBFWBYZW38NGPNM.SEARCH&ppt=None&ppn=None&ssid=ae2i7w1jsg0000001689227279867&qH=06ad95146e64788b\n",
      "https://www.flipkart.com/apple-iphone-12-pro-max-gold-256-gb/p/itm1e0354f5bbc8c?pid=MOBFWBYZZPW8JHQF&lid=LSTMOBFWBYZZPW8JHQFAXB2G1&marketplace=FLIPKART&q=iphone12promax&store=tyy%2F4io&srno=s_1_2&otracker=search&fm=organic&iid=dce4a995-d8e3-4ed4-acc1-5aa1eb04ee65.MOBFWBYZZPW8JHQF.SEARCH&ppt=None&ppn=None&ssid=ae2i7w1jsg0000001689227279867&qH=06ad95146e64788b\n",
      "https://www.flipkart.com/apple-iphone-12-pro-max-silver-256-gb/p/itm30faf74442adb?pid=MOBFWBYZZH4AM8FE&lid=LSTMOBFWBYZZH4AM8FETYFBOG&marketplace=FLIPKART&q=iphone12promax&store=tyy%2F4io&srno=s_1_3&otracker=search&fm=organic&iid=dce4a995-d8e3-4ed4-acc1-5aa1eb04ee65.MOBFWBYZZH4AM8FE.SEARCH&ppt=None&ppn=None&ssid=ae2i7w1jsg0000001689227279867&qH=06ad95146e64788b\n",
      "https://www.flipkart.com/apple-iphone-12-pro-max-graphite-128-gb/p/itm973c298184f51?pid=MOBFWBYZFDGQSDWS&lid=LSTMOBFWBYZFDGQSDWS6UBAEI&marketplace=FLIPKART&q=iphone12promax&store=tyy%2F4io&srno=s_1_4&otracker=search&fm=organic&iid=dce4a995-d8e3-4ed4-acc1-5aa1eb04ee65.MOBFWBYZFDGQSDWS.SEARCH&ppt=None&ppn=None&ssid=ae2i7w1jsg0000001689227279867&qH=06ad95146e64788b\n",
      "https://www.flipkart.com/apple-iphone-12-pro-max-graphite-512-gb/p/itm52a5e8e630441?pid=MOBFWBYZZZ6DWWFZ&lid=LSTMOBFWBYZZZ6DWWFZJWJVPK&marketplace=FLIPKART&q=iphone12promax&store=tyy%2F4io&srno=s_1_5&otracker=search&fm=organic&iid=dce4a995-d8e3-4ed4-acc1-5aa1eb04ee65.MOBFWBYZZZ6DWWFZ.SEARCH&ppt=None&ppn=None&ssid=ae2i7w1jsg0000001689227279867&qH=06ad95146e64788b\n",
      "https://www.flipkart.com/apple-iphone-12-pro-max-gold-512-gb/p/itmd164e2fef2871?pid=MOBFWBYZ4AG3FGNW&lid=LSTMOBFWBYZ4AG3FGNWL6UEHL&marketplace=FLIPKART&q=iphone12promax&store=tyy%2F4io&srno=s_1_6&otracker=search&fm=organic&iid=dce4a995-d8e3-4ed4-acc1-5aa1eb04ee65.MOBFWBYZ4AG3FGNW.SEARCH&ppt=None&ppn=None&ssid=ae2i7w1jsg0000001689227279867&qH=06ad95146e64788b\n",
      "https://www.flipkart.com/apple-iphone-12-pro-max-pacific-blue-128-gb/p/itmd89812b558a03?pid=MOBFWBYZZABKHZQA&lid=LSTMOBFWBYZZABKHZQATE6G93&marketplace=FLIPKART&q=iphone12promax&store=tyy%2F4io&srno=s_1_7&otracker=search&fm=organic&iid=dce4a995-d8e3-4ed4-acc1-5aa1eb04ee65.MOBFWBYZZABKHZQA.SEARCH&ppt=None&ppn=None&ssid=ae2i7w1jsg0000001689227279867&qH=06ad95146e64788b\n",
      "https://www.flipkart.com/apple-iphone-12-pro-max-silver-128-gb/p/itm5a51ba742a17e?pid=MOBFWBYZNSNVGGZC&lid=LSTMOBFWBYZNSNVGGZCTPGZZU&marketplace=FLIPKART&q=iphone12promax&store=tyy%2F4io&srno=s_1_8&otracker=search&fm=organic&iid=dce4a995-d8e3-4ed4-acc1-5aa1eb04ee65.MOBFWBYZNSNVGGZC.SEARCH&ppt=None&ppn=None&ssid=ae2i7w1jsg0000001689227279867&qH=06ad95146e64788b\n",
      "https://www.flipkart.com/apple-iphone-12-pro-max-graphite-256-gb/p/itm8dbdf0b986725?pid=MOBFWBYZEF6XQ5ZW&lid=LSTMOBFWBYZEF6XQ5ZWBZ3ZKD&marketplace=FLIPKART&q=iphone12promax&store=tyy%2F4io&srno=s_1_9&otracker=search&fm=organic&iid=dce4a995-d8e3-4ed4-acc1-5aa1eb04ee65.MOBFWBYZEF6XQ5ZW.SEARCH&ppt=None&ppn=None&ssid=ae2i7w1jsg0000001689227279867&qH=06ad95146e64788b\n",
      "https://www.flipkart.com/apple-iphone-12-pro-max-gold-128-gb/p/itme3ae592065711?pid=MOBFWBYZQVKT77YH&lid=LSTMOBFWBYZQVKT77YHZWNRP7&marketplace=FLIPKART&q=iphone12promax&store=tyy%2F4io&srno=s_1_10&otracker=search&fm=organic&iid=dce4a995-d8e3-4ed4-acc1-5aa1eb04ee65.MOBFWBYZQVKT77YH.SEARCH&ppt=None&ppn=None&ssid=ae2i7w1jsg0000001689227279867&qH=06ad95146e64788b\n",
      "https://www.flipkart.com/apple-iphone-12-pro-max-pacific-blue-256-gb/p/itm3a0860c94250e?pid=MOBFWBYZ8STJXCVT&lid=LSTMOBFWBYZ8STJXCVTQTZADP&marketplace=FLIPKART&q=iphone12promax&store=tyy%2F4io&srno=s_1_11&otracker=search&fm=organic&iid=dce4a995-d8e3-4ed4-acc1-5aa1eb04ee65.MOBFWBYZ8STJXCVT.SEARCH&ppt=None&ppn=None&ssid=ae2i7w1jsg0000001689227279867&qH=06ad95146e64788b\n",
      "https://www.flipkart.com/apple-iphone-12-pro-max-pacific-blue-512-gb/p/itme005d7afeb4a3?pid=MOBFWBYZPW4KW4XX&lid=LSTMOBFWBYZPW4KW4XXXYHC14&marketplace=FLIPKART&q=iphone12promax&store=tyy%2F4io&srno=s_1_12&otracker=search&fm=organic&iid=dce4a995-d8e3-4ed4-acc1-5aa1eb04ee65.MOBFWBYZPW4KW4XX.SEARCH&ppt=None&ppn=None&ssid=ae2i7w1jsg0000001689227279867&qH=06ad95146e64788b\n",
      "https://www.flipkart.com/apple-iphone-14-pro-max-deep-purple-128-gb/p/itm5256789ae40c7?pid=MOBGHWFHCWHXRZZJ&lid=LSTMOBGHWFHCWHXRZZJ9EECH5&marketplace=FLIPKART&q=iphone12promax&store=tyy%2F4io&srno=s_1_13&otracker=search&fm=organic&iid=dce4a995-d8e3-4ed4-acc1-5aa1eb04ee65.MOBGHWFHCWHXRZZJ.SEARCH&ppt=None&ppn=None&ssid=ae2i7w1jsg0000001689227279867&qH=06ad95146e64788b\n",
      "https://www.flipkart.com/apple-iphone-14-pro-max-gold-128-gb/p/itm898d084d8a65f?pid=MOBGHWFHGDS3H5S9&lid=LSTMOBGHWFHGDS3H5S9AM0G7C&marketplace=FLIPKART&q=iphone12promax&store=tyy%2F4io&spotlightTagId=FkPickId_tyy%2F4io&srno=s_1_14&otracker=search&fm=organic&iid=dce4a995-d8e3-4ed4-acc1-5aa1eb04ee65.MOBGHWFHGDS3H5S9.SEARCH&ppt=None&ppn=None&ssid=ae2i7w1jsg0000001689227279867&qH=06ad95146e64788b\n",
      "https://www.flipkart.com/apple-iphone-14-pro-max-silver-128-gb/p/itmb520f3bdf56d5?pid=MOBGHWFHXFGNUZJA&lid=LSTMOBGHWFHXFGNUZJAMNTG4B&marketplace=FLIPKART&q=iphone12promax&store=tyy%2F4io&srno=s_1_15&otracker=search&fm=organic&iid=dce4a995-d8e3-4ed4-acc1-5aa1eb04ee65.MOBGHWFHXFGNUZJA.SEARCH&ppt=None&ppn=None&ssid=ae2i7w1jsg0000001689227279867&qH=06ad95146e64788b\n",
      "https://www.flipkart.com/apple-iphone-14-pro-max-space-black-128-gb/p/itm9aed88fe43457?pid=MOBGHWFHCNVGGMZF&lid=LSTMOBGHWFHCNVGGMZFEEIZN3&marketplace=FLIPKART&q=iphone12promax&store=tyy%2F4io&srno=s_1_16&otracker=search&fm=organic&iid=dce4a995-d8e3-4ed4-acc1-5aa1eb04ee65.MOBGHWFHCNVGGMZF.SEARCH&ppt=None&ppn=None&ssid=ae2i7w1jsg0000001689227279867&qH=06ad95146e64788b\n",
      "https://www.flipkart.com/apple-iphone-14-pro-max-gold-256-gb/p/itmd21bfa03be8c2?pid=MOBGHWFHZVHJM4HZ&lid=LSTMOBGHWFHZVHJM4HZFPEJ62&marketplace=FLIPKART&q=iphone12promax&store=tyy%2F4io&srno=s_1_17&otracker=search&fm=organic&iid=dce4a995-d8e3-4ed4-acc1-5aa1eb04ee65.MOBGHWFHZVHJM4HZ.SEARCH&ppt=None&ppn=None&ssid=ae2i7w1jsg0000001689227279867&qH=06ad95146e64788b\n",
      "https://www.flipkart.com/apple-iphone-14-pro-max-space-black-256-gb/p/itm8a92b3d600e04?pid=MOBGHWFHSEZUKWDM&lid=LSTMOBGHWFHSEZUKWDMSHQUPT&marketplace=FLIPKART&q=iphone12promax&store=tyy%2F4io&srno=s_1_18&otracker=search&fm=organic&iid=dce4a995-d8e3-4ed4-acc1-5aa1eb04ee65.MOBGHWFHSEZUKWDM.SEARCH&ppt=None&ppn=None&ssid=ae2i7w1jsg0000001689227279867&qH=06ad95146e64788b\n",
      "https://www.flipkart.com/apple-iphone-14-pro-max-silver-256-gb/p/itm111e35f4e1caa?pid=MOBGHWFHBERP6PNS&lid=LSTMOBGHWFHBERP6PNS8N24KK&marketplace=FLIPKART&q=iphone12promax&store=tyy%2F4io&srno=s_1_19&otracker=search&fm=organic&iid=dce4a995-d8e3-4ed4-acc1-5aa1eb04ee65.MOBGHWFHBERP6PNS.SEARCH&ppt=None&ppn=None&ssid=ae2i7w1jsg0000001689227279867&qH=06ad95146e64788b\n",
      "https://www.flipkart.com/apple-iphone-14-pro-max-space-black-512-gb/p/itm68fe95bfc58dd?pid=MOBGHWFHSTGZHYAT&lid=LSTMOBGHWFHSTGZHYATDCZBHP&marketplace=FLIPKART&q=iphone12promax&store=tyy%2F4io&srno=s_1_20&otracker=search&fm=organic&iid=dce4a995-d8e3-4ed4-acc1-5aa1eb04ee65.MOBGHWFHSTGZHYAT.SEARCH&ppt=None&ppn=None&ssid=ae2i7w1jsg0000001689227279867&qH=06ad95146e64788b\n",
      "https://www.flipkart.com/apple-iphone-14-pro-max-gold-512-gb/p/itm6ab4bc3095a65?pid=MOBGHWFHZAXBEPXV&lid=LSTMOBGHWFHZAXBEPXVDYYT8X&marketplace=FLIPKART&q=iphone12promax&store=tyy%2F4io&srno=s_1_21&otracker=search&fm=organic&iid=dce4a995-d8e3-4ed4-acc1-5aa1eb04ee65.MOBGHWFHZAXBEPXV.SEARCH&ppt=None&ppn=None&ssid=ae2i7w1jsg0000001689227279867&qH=06ad95146e64788b\n",
      "https://www.flipkart.com/apple-iphone-13-pro-max-alpine-green-512-gb/p/itme5529c8267abe?pid=MOBGC9VGHZAHZH6H&lid=LSTMOBGC9VGHZAHZH6HTUEYHC&marketplace=FLIPKART&q=iphone12promax&store=tyy%2F4io&srno=s_1_22&otracker=search&fm=organic&iid=dce4a995-d8e3-4ed4-acc1-5aa1eb04ee65.MOBGC9VGHZAHZH6H.SEARCH&ppt=None&ppn=None&ssid=ae2i7w1jsg0000001689227279867&qH=06ad95146e64788b\n",
      "https://www.flipkart.com/apple-iphone-13-pro-max-alpine-green-1-tb/p/itm85829ae4949a7?pid=MOBGC9VGF6TPMQKZ&lid=LSTMOBGC9VGF6TPMQKZ5TZPK4&marketplace=FLIPKART&q=iphone12promax&store=tyy%2F4io&srno=s_1_23&otracker=search&fm=organic&iid=dce4a995-d8e3-4ed4-acc1-5aa1eb04ee65.MOBGC9VGF6TPMQKZ.SEARCH&ppt=None&ppn=None&ssid=ae2i7w1jsg0000001689227279867&qH=06ad95146e64788b\n",
      "https://www.flipkart.com/apple-iphone-13-pro-max-gold-128-gb/p/itm8b15a11ea85d7?pid=MOBG6VF5EGHG2QPN&lid=LSTMOBG6VF5EGHG2QPNLPDBF1&marketplace=FLIPKART&q=iphone12promax&store=tyy%2F4io&srno=s_1_24&otracker=search&fm=organic&iid=dce4a995-d8e3-4ed4-acc1-5aa1eb04ee65.MOBG6VF5EGHG2QPN.SEARCH&ppt=None&ppn=None&ssid=ae2i7w1jsg0000001689227279867&qH=06ad95146e64788b\n"
     ]
    },
    {
     "ename": "AttributeError",
     "evalue": "'NoneType' object has no attribute 'a'",
     "output_type": "error",
     "traceback": [
      "\u001b[0;31m---------------------------------------------------------------------------\u001b[0m",
      "\u001b[0;31mAttributeError\u001b[0m                            Traceback (most recent call last)",
      "Cell \u001b[0;32mIn[216], line 2\u001b[0m\n\u001b[1;32m      1\u001b[0m \u001b[39mfor\u001b[39;00m i \u001b[39min\u001b[39;00m bigbox[\u001b[39m2\u001b[39m:]:\n\u001b[0;32m----> 2\u001b[0m     \u001b[39mprint\u001b[39m(\u001b[39m\"\u001b[39m\u001b[39mhttps://www.flipkart.com\u001b[39m\u001b[39m\"\u001b[39m\u001b[39m+\u001b[39mi\u001b[39m.\u001b[39;49mdiv\u001b[39m.\u001b[39;49mdiv\u001b[39m.\u001b[39;49mdiv\u001b[39m.\u001b[39;49ma[\u001b[39m\"\u001b[39m\u001b[39mhref\u001b[39m\u001b[39m\"\u001b[39m])\n",
      "\u001b[0;31mAttributeError\u001b[0m: 'NoneType' object has no attribute 'a'"
     ]
    }
   ],
   "source": [
    "for i in bigbox[2:]:\n",
    "    print(\"https://www.flipkart.com\"+i.div.div.div.a[\"href\"])"
   ]
  }
 ],
 "metadata": {
  "kernelspec": {
   "display_name": "Python 3",
   "language": "python",
   "name": "python3"
  },
  "language_info": {
   "codemirror_mode": {
    "name": "ipython",
    "version": 3
   },
   "file_extension": ".py",
   "mimetype": "text/x-python",
   "name": "python",
   "nbconvert_exporter": "python",
   "pygments_lexer": "ipython3",
   "version": "3.11.4"
  },
  "orig_nbformat": 4
 },
 "nbformat": 4,
 "nbformat_minor": 2
}
