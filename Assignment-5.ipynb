{
 "cells": [
  {
   "cell_type": "code",
   "execution_count": 3,
   "metadata": {},
   "outputs": [],
   "source": [
    "# Q-1 sol:\n",
    "\n",
    "class Vehicle():\n",
    "    def __init__(self,name_of_vehicle,max_speed,average_of_vehicle):\n",
    "        self.name_of_veh = name_of_vehicle\n",
    "        self.max_speed = max_speed\n",
    "        self.average_of_veh = average_of_vehicle"
   ]
  },
  {
   "cell_type": "code",
   "execution_count": 8,
   "metadata": {},
   "outputs": [
    {
     "data": {
      "text/plain": [
       "'The vehicle named Honda has a sitting capacity of about 9 passengers'"
      ]
     },
     "execution_count": 8,
     "metadata": {},
     "output_type": "execute_result"
    }
   ],
   "source": [
    "# Q-2 sol:\n",
    "class Car(Vehicle):\n",
    "    def sitting_capacity(self,capacity):\n",
    "        return f\"The vehicle named {self.name_of_veh} has a \\\n",
    "sitting capacity of about {capacity} passengers\"\n",
    "\n",
    "k = Car(\"Honda\",\"120\",\"600\")\n",
    "k.sitting_capacity(9)"
   ]
  },
  {
   "cell_type": "code",
   "execution_count": 9,
   "metadata": {},
   "outputs": [
    {
     "name": "stdout",
     "output_type": "stream",
     "text": [
      "The battery storage capacity is : 80 Kw\n"
     ]
    }
   ],
   "source": [
    "# Q-3 sol:\n",
    "\n",
    "\"\"\"\n",
    "Multiple Inheritance : It's a concept where one class inherits from multiple\n",
    "classes.\n",
    "\"\"\"\n",
    "class Vehicle:\n",
    "    def __init__(self,name_of_veh):\n",
    "        self.name_of_veh = name_of_veh\n",
    "class Electric_car:\n",
    "    def battery_storage(self,battery):\n",
    "        return f'The battery storage capacity is : {battery}'\n",
    "class Car(Vehicle,Electric_car):\n",
    "    pass\n",
    "k = Car(\"Honda\")\n",
    "print(k.battery_storage(\"80 Kw\"))"
   ]
  },
  {
   "cell_type": "code",
   "execution_count": null,
   "metadata": {},
   "outputs": [],
   "source": [
    "# Q-4 sol:\n"
   ]
  }
 ],
 "metadata": {
  "kernelspec": {
   "display_name": "Python 3",
   "language": "python",
   "name": "python3"
  },
  "language_info": {
   "codemirror_mode": {
    "name": "ipython",
    "version": 3
   },
   "file_extension": ".py",
   "mimetype": "text/x-python",
   "name": "python",
   "nbconvert_exporter": "python",
   "pygments_lexer": "ipython3",
   "version": "3.11.3"
  },
  "orig_nbformat": 4
 },
 "nbformat": 4,
 "nbformat_minor": 2
}
