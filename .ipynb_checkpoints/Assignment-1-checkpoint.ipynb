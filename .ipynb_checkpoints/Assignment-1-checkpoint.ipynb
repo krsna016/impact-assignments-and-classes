{
 "cells": [
  {
   "cell_type": "code",
   "execution_count": 2,
   "metadata": {},
   "outputs": [],
   "source": [
    "# Q-1 sol:\n",
    "\n",
    "# i:\n",
    "a = \"Anurag\"\n",
    "# ii:\n",
    "b = [1,2.99,3j,\"Hello\"]\n",
    "# iii:\n",
    "c = 33.98\n",
    "# iv:\n",
    "d = ('anurag','pareek')"
   ]
  },
  {
   "cell_type": "code",
   "execution_count": null,
   "metadata": {},
   "outputs": [],
   "source": [
    "# Q-2 sol:\n",
    "\n",
    "# i: String data type\n",
    "# ii: String data type\n",
    "# iii: List data type\n",
    "# iv: Float data type"
   ]
  },
  {
   "cell_type": "code",
   "execution_count": null,
   "metadata": {},
   "outputs": [],
   "source": [
    "# Q-3 sol:\n",
    "\n",
    "# i : Used for doing floor division\n",
    "# ii : Used for finding the remainder\n",
    "# iii : Used for integer division\n",
    "# iv : Used for finding exponent"
   ]
  },
  {
   "cell_type": "code",
   "execution_count": 3,
   "metadata": {},
   "outputs": [
    {
     "name": "stdout",
     "output_type": "stream",
     "text": [
      "1    ->    <class 'int'>\n",
      "9    ->    <class 'int'>\n",
      "7    ->    <class 'int'>\n",
      "99.87    ->    <class 'float'>\n",
      "anurag    ->    <class 'str'>\n",
      "Hello    ->    <class 'str'>\n",
      "(9+4j)    ->    <class 'complex'>\n",
      "('a', 2)    ->    <class 'tuple'>\n",
      "22    ->    <class 'int'>\n",
      "abc    ->    <class 'str'>\n"
     ]
    }
   ],
   "source": [
    "# Q-4 sol:\n",
    "\n",
    "list_1 = [1,9,7,99.87,\"anurag\",\"Hello\",9+4j,('a',2),22,\"abc\"]\n",
    "for i in list_1:\n",
    "    print(i,\"   ->   \",type(i))"
   ]
  },
  {
   "cell_type": "code",
   "execution_count": 2,
   "metadata": {},
   "outputs": [
    {
     "name": "stdout",
     "output_type": "stream",
     "text": [
      "8\n",
      "2\n",
      "3\n"
     ]
    }
   ],
   "source": [
    "# Q-5 sol:\n",
    "\n",
    "a = int(input())\n",
    "b = int(input())\n",
    "count = 0\n",
    "while a%b==0:\n",
    "    a = a//b\n",
    "    count += 1 \n",
    "print(count)"
   ]
  },
  {
   "cell_type": "code",
   "execution_count": null,
   "metadata": {},
   "outputs": [],
   "source": [
    "# Q-6 sol:\n",
    "\n",
    "list_2 = list(range(1,31))\n",
    "for i in list_2:\n",
    "    if i%3 == 0:\n",
    "        print(i,)"
   ]
  }
 ],
 "metadata": {
  "kernelspec": {
   "display_name": "Python 3 (ipykernel)",
   "language": "python",
   "name": "python3"
  },
  "language_info": {
   "codemirror_mode": {
    "name": "ipython",
    "version": 3
   },
   "file_extension": ".py",
   "mimetype": "text/x-python",
   "name": "python",
   "nbconvert_exporter": "python",
   "pygments_lexer": "ipython3",
   "version": "3.9.16"
  }
 },
 "nbformat": 4,
 "nbformat_minor": 2
}
